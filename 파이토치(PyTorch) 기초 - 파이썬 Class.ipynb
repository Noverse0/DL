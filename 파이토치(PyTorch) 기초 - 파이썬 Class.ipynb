{
 "cells": [
  {
   "cell_type": "markdown",
   "metadata": {},
   "source": [
    "# 파이썬 클래스(Class)\n",
    "\n",
    "PyTorch의 구현체들은 기본적으로 파이썬의 Class를 사용하고 있다.\n",
    "\n",
    "그렇기 때문에 파이썬의 Class에 대한 개념을 이해해야 PyTorch를 더 잘 이해할 수 있다.\n",
    "\n",
    "Class란 붕어빵을 만들어내는 붕어빵의 틀과 같은 것이다.\n",
    "\n",
    "우리가 어떤 사람들의 id카드를 만든다고 가정할때, 우리는 id 카드를 신청한 사람이 생길때마다 그 사람에 대한 정보를 저장해야할 것이다.\n",
    "\n",
    "이와 같이 반복되는 작업을 하지 않고 Class라는 틀을 만들어 놓으면 더 쉽고 빠르게 데이터를 다룰 수 있게 된다."
   ]
  },
  {
   "cell_type": "code",
   "execution_count": 1,
   "metadata": {},
   "outputs": [],
   "source": [
    "class Calculator:\n",
    "    def __init__(self): # 객체 생성 시 호출될 때 실행되는 초기화 함수. 이를 생성자라고 한다.\n",
    "        self.result = 0\n",
    "\n",
    "    def add(self, num): # 객체 생성 후 사용할 수 있는 함수.\n",
    "        self.result += num\n",
    "        return self.result"
   ]
  },
  {
   "cell_type": "markdown",
   "metadata": {},
   "source": [
    "위의 코드는 계산기라는 틀을 생성한 것이다.\n",
    "\n",
    "즉, 우리는 Class Calculator라는 것만 있으면 계산기를 계속 생성할 수 있는 것이다."
   ]
  },
  {
   "cell_type": "code",
   "execution_count": 2,
   "metadata": {},
   "outputs": [],
   "source": [
    "cal1 = Calculator()\n",
    "cal2 = Calculator()"
   ]
  },
  {
   "cell_type": "markdown",
   "metadata": {},
   "source": [
    "cal1과 cal2라는 계산기를 생성하였다.\n",
    "\n",
    "두 계산기가 잘 돌아가는지를 확인해보면 각자 잘 돌아가는 것을 확인할 수 있다."
   ]
  },
  {
   "cell_type": "code",
   "execution_count": 3,
   "metadata": {},
   "outputs": [
    {
     "name": "stdout",
     "output_type": "stream",
     "text": [
      "3\n",
      "7\n",
      "3\n",
      "10\n"
     ]
    }
   ],
   "source": [
    "print(cal1.add(3))\n",
    "print(cal1.add(4))\n",
    "print(cal2.add(3))\n",
    "print(cal2.add(7))"
   ]
  }
 ],
 "metadata": {
  "kernelspec": {
   "display_name": "Python 3",
   "language": "python",
   "name": "python3"
  },
  "language_info": {
   "codemirror_mode": {
    "name": "ipython",
    "version": 3
   },
   "file_extension": ".py",
   "mimetype": "text/x-python",
   "name": "python",
   "nbconvert_exporter": "python",
   "pygments_lexer": "ipython3",
   "version": "3.8.5"
  }
 },
 "nbformat": 4,
 "nbformat_minor": 4
}
