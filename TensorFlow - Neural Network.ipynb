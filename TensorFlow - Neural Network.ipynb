{
 "cells": [
  {
   "cell_type": "markdown",
   "metadata": {},
   "source": [
    "# Neural Network Model 생성\n",
    "\n",
    "앞서 Softmax 알고리즘을 할때, MNIST 데이터를 예측하는 예제를 해보았다.\n",
    "\n",
    "이제는 Neural Network Model을 이용하여 예측을 해볼 것이다.\n",
    "\n",
    "Softmax를 이용했을때는 약 90%정도의 정확도를 기록했었는데, Neural Network를 사용했을때는 얼마나 더 좋아질 수 있을지 확인해보겠다.\n",
    "\n",
    "또한, Initializer, Active Function 등을 조절하여 더 성능을 올려보겠다."
   ]
  },
  {
   "cell_type": "code",
   "execution_count": 38,
   "metadata": {},
   "outputs": [],
   "source": [
    "import matplotlib.pyplot as plt  # 그림으로 보기 위한 matplotlib 라이브러리 import\n",
    "from tensorflow.keras.datasets import mnist  # 라이브러리가 기본으로 제공하는 mnist 데이터셋\n",
    "from tensorflow.keras.utils import to_categorical  # one-hot encoding 을 위한 함수\n",
    "from tensorflow.keras.models import Sequential  # 레이어를 층층히 쌓아가는 연쇄 모델\n",
    "from tensorflow.keras.layers import Dense  # 완전연결층\n",
    "from tensorflow.keras.models import load_model  # 저장된 모델 불러오기\n",
    "from tensorflow.keras.layers import Dropout  # Dropout"
   ]
  },
  {
   "cell_type": "code",
   "execution_count": 19,
   "metadata": {},
   "outputs": [],
   "source": [
    "# mnist 데이터 로딩 \n",
    "(X_train, y_train), (X_test, y_test) = mnist.load_data()"
   ]
  },
  {
   "cell_type": "code",
   "execution_count": 20,
   "metadata": {},
   "outputs": [
    {
     "name": "stdout",
     "output_type": "stream",
     "text": [
      "X_train_shape: (60000, 784)\n",
      "X_test_shape: (10000, 784)\n"
     ]
    }
   ],
   "source": [
    "input_shape = X_train.shape[1] * X_train.shape[2]  # 그림의 크기: 28 * 28\n",
    "number_of_classes = len(set(y_train))  # 레이블의 종류. 0~9로 10개\n",
    "\n",
    "X_train = X_train / 255.0\n",
    "X_test = X_test / 255\n",
    "X_train = X_train.reshape(-1, input_shape)  # 3차원 -> 2차원\n",
    "X_test = X_test.reshape(-1, input_shape)\n",
    "\n",
    "print(f\"X_train_shape: {X_train.shape}\")  # X_train_shape: (60000, 784)\n",
    "print(f\"X_test_shape: {X_test.shape}\")  # X_test_shape: (10000, 784)"
   ]
  },
  {
   "cell_type": "code",
   "execution_count": 22,
   "metadata": {},
   "outputs": [
    {
     "name": "stdout",
     "output_type": "stream",
     "text": [
      "y_train_shape: (60000, 10)\n",
      "y_test_shape: (10000, 10)\n"
     ]
    }
   ],
   "source": [
    "y_train = to_categorical(y_train, number_of_classes)  # 원-핫 인코딩. 1차원 -> 2차원\n",
    "y_test = to_categorical(y_test, number_of_classes)\n",
    "\n",
    "print(f\"y_train_shape: {y_train.shape}\")  # y_train_shape: (60000, 10)\n",
    "print(f\"y_test_shape: {y_test.shape}\")  # y_test_shape: (10000, 10"
   ]
  },
  {
   "cell_type": "code",
   "execution_count": 39,
   "metadata": {},
   "outputs": [
    {
     "name": "stdout",
     "output_type": "stream",
     "text": [
      "Model: \"sequential_15\"\n",
      "_________________________________________________________________\n",
      " Layer (type)                Output Shape              Param #   \n",
      "=================================================================\n",
      " dense_23 (Dense)            (None, 128)               100480    \n",
      "                                                                 \n",
      " dropout_1 (Dropout)         (None, 128)               0         \n",
      "                                                                 \n",
      " dense_24 (Dense)            (None, 10)                1290      \n",
      "                                                                 \n",
      "=================================================================\n",
      "Total params: 101,770\n",
      "Trainable params: 101,770\n",
      "Non-trainable params: 0\n",
      "_________________________________________________________________\n"
     ]
    }
   ],
   "source": [
    "model = Sequential()  # 모델 선언\n",
    "\n",
    "# 완전연결층 추가. 처음 쌓는 레이어는 input_shape: 데이터 차원(개수 제외)을 적어줘야함.\n",
    "# he_normal은 He initializer\n",
    "# glorot_normal은 Xavier normal initializer\n",
    "model.add(Dense(128, activation=\"relu\", input_shape=x_train.shape[1:], kernel_initializer='he_normal'))\n",
    "\n",
    "#Dropout 추가하기\n",
    "model.add(Dropout(0.5))\n",
    "\n",
    "# 출력하는 완전연결층 추가. 다중분류이므로, softmax 활성화함수 사용\n",
    "model.add(Dense(y_train.shape[1], activation=\"softmax\"))\n",
    "\n",
    "# 모델 컴파일. 다중분류이므로 categorical_crossentropy, 정확도 표기\n",
    "model.compile(loss=\"categorical_crossentropy\",\n",
    "              optimizer=\"adam\",\n",
    "              metrics=[\"acc\"])\n",
    "\n",
    "model.summary()  # 간단하게 요약해 출력"
   ]
  },
  {
   "cell_type": "code",
   "execution_count": 40,
   "metadata": {},
   "outputs": [
    {
     "name": "stdout",
     "output_type": "stream",
     "text": [
      "Epoch 1/10\n",
      "1500/1500 [==============================] - 5s 3ms/step - loss: 0.4319 - acc: 0.8707 - val_loss: 0.1889 - val_acc: 0.9465\n",
      "Epoch 2/10\n",
      "1500/1500 [==============================] - 4s 3ms/step - loss: 0.2383 - acc: 0.9298 - val_loss: 0.1325 - val_acc: 0.9613\n",
      "Epoch 3/10\n",
      "1500/1500 [==============================] - 5s 3ms/step - loss: 0.1966 - acc: 0.9403 - val_loss: 0.1194 - val_acc: 0.9639\n",
      "Epoch 4/10\n",
      "1500/1500 [==============================] - 5s 3ms/step - loss: 0.1740 - acc: 0.9481 - val_loss: 0.1043 - val_acc: 0.9683\n",
      "Epoch 5/10\n",
      "1500/1500 [==============================] - 5s 3ms/step - loss: 0.1594 - acc: 0.9515 - val_loss: 0.1028 - val_acc: 0.9704\n",
      "Epoch 6/10\n",
      "1500/1500 [==============================] - 5s 3ms/step - loss: 0.1475 - acc: 0.9560 - val_loss: 0.0959 - val_acc: 0.9706\n",
      "Epoch 7/10\n",
      "1500/1500 [==============================] - 5s 3ms/step - loss: 0.1371 - acc: 0.9591 - val_loss: 0.0951 - val_acc: 0.9733\n",
      "Epoch 8/10\n",
      "1500/1500 [==============================] - 5s 3ms/step - loss: 0.1305 - acc: 0.9595 - val_loss: 0.0912 - val_acc: 0.9740\n",
      "Epoch 9/10\n",
      "1500/1500 [==============================] - 5s 3ms/step - loss: 0.1253 - acc: 0.9607 - val_loss: 0.0925 - val_acc: 0.9733\n",
      "Epoch 10/10\n",
      "1500/1500 [==============================] - 5s 3ms/step - loss: 0.1205 - acc: 0.9633 - val_loss: 0.0959 - val_acc: 0.9735\n",
      "313/313 [==============================] - 1s 3ms/step - loss: 0.0949 - acc: 0.9725\n",
      "손실률: 0.0948774516582489\n",
      "정확도: 0.9725000262260437\n"
     ]
    }
   ],
   "source": [
    "history = model.fit(X_train, y_train, batch_size=32, epochs=10, validation_split=0.2)\n",
    "loss, acc = model.evaluate(X_test, y_test)  # 학습 완료 후 검증\n",
    "print(\"손실률:\", loss)  # 손실률\n",
    "print(\"정확도:\", acc)  # 정확도"
   ]
  },
  {
   "cell_type": "code",
   "execution_count": 41,
   "metadata": {},
   "outputs": [
    {
     "data": {
      "image/png": "[encoded data removed]",
      "text/plain": [
       "<Figure size 1296x432 with 2 Axes>"
      ]
     },
     "metadata": {
      "needs_background": "light"
     },
     "output_type": "display_data"
    }
   ],
   "source": [
    "plt.figure(figsize=(18, 6))\n",
    "\n",
    "# 에포크별 정확도\n",
    "plt.subplot(1,2,1)\n",
    "plt.plot(history.history[\"acc\"], label=\"accuracy\")\n",
    "plt.plot(history.history[\"val_acc\"], label=\"val_accuracy\")\n",
    "plt.title(\"accuracy\")\n",
    "plt.legend()\n",
    "\n",
    "# 에포크별 손실률\n",
    "plt.subplot(1,2,2)\n",
    "plt.plot(history.history[\"loss\"], label=\"loss\")\n",
    "plt.plot(history.history[\"val_loss\"], label=\"val_loss\")\n",
    "plt.title(\"loss\")\n",
    "plt.legend()\n",
    "\n",
    "plt.show()"
   ]
  }
 ],
 "metadata": {
  "kernelspec": {
   "display_name": "Python 3",
   "language": "python",
   "name": "python3"
  },
  "language_info": {
   "codemirror_mode": {
    "name": "ipython",
    "version": 3
   },
   "file_extension": ".py",
   "mimetype": "text/x-python",
   "name": "python",
   "nbconvert_exporter": "python",
   "pygments_lexer": "ipython3",
   "version": "3.8.5"
  }
 },
 "nbformat": 4,
 "nbformat_minor": 4
}
