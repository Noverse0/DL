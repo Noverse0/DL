{
 "cells": [
  {
   "cell_type": "markdown",
   "metadata": {},
   "source": [
    "# Softmax Regression\n",
    "\n",
    "Softmax에 대한 자세한 설명은 제 Notion 페이지에 있습니다.\n",
    "\n",
    "https://noversezero.notion.site/Softmax-Regression-443d6bf93b234f11a3e6134130953d7b"
   ]
  },
  {
   "cell_type": "code",
   "execution_count": 8,
   "metadata": {},
   "outputs": [],
   "source": [
    "import tensorflow as tf\n",
    "import numpy as np\n",
    "from tensorflow.keras.datasets import mnist\n",
    "import matplotlib.pyplot as plt"
   ]
  },
  {
   "cell_type": "code",
   "execution_count": 9,
   "metadata": {},
   "outputs": [],
   "source": [
    "# mnist 데이터 로딩 \n",
    "(x_train, y_train), (x_test, y_test) = mnist.load_data()"
   ]
  },
  {
   "cell_type": "markdown",
   "metadata": {},
   "source": [
    " mnist 데이터는 6만개의 train 데이터와 1만개의 test 데이터로 이루어져있습니다.\n",
    " \n",
    " 한개의 데이터는 28, 28의 2차원 배열 형태로 저장이 되어 있습니다.\n",
    " \n",
    " 즉, 가로 28, 세로 28의 흑백 이미지들의 집합입니다."
   ]
  },
  {
   "cell_type": "code",
   "execution_count": 10,
   "metadata": {},
   "outputs": [],
   "source": [
    "# Covert uint8 to float32\n",
    "x_train, x_test = np.array(x_train, np.float32), np.array(x_test, np.float32)"
   ]
  },
  {
   "cell_type": "code",
   "execution_count": 11,
   "metadata": {},
   "outputs": [],
   "source": [
    "# Flatten images to 1-0 vector of 784 features (28*28), 1차원 벡터로 변환\n",
    "x_train, x_test = x_train.reshape([-1, 28*28]), x_test.reshape([-1, 28*28])"
   ]
  },
  {
   "cell_type": "markdown",
   "metadata": {},
   "source": [
    "reshape(-1, x)는 2차원이던 shape를 1차원으로 줄이라는 뜻이다.\n",
    "\n",
    "즉, x_train.reshape([-1, 28x28])은 x_train의 모든 원소들을 28x28(왜냐 한 데이터가 28x28 차원이기 때문에)의 1차원 벡터로 바꾼다는 의미이다."
   ]
  },
  {
   "cell_type": "code",
   "execution_count": 12,
   "metadata": {},
   "outputs": [],
   "source": [
    "# Normalize images value from [0, 255] to [0,1] \n",
    "#0부터 255까지 숫자로 되어 있는 것을 255로 나누어서 Nomalization\n",
    "x_train, x_test = x_train / 255, x_test / 255"
   ]
  },
  {
   "cell_type": "markdown",
   "metadata": {},
   "source": [
    "이 데이터를 이해하기 휩게 0과 1사이의 실수값으로 데이터를 변환하는게 필요합니다.\n",
    "\n",
    "255로 나누어 0과 1사이의 값으로 만들어 줍니다."
   ]
  },
  {
   "cell_type": "code",
   "execution_count": 13,
   "metadata": {},
   "outputs": [],
   "source": [
    "# One-Hot-Encoding\n",
    "one_hot_y_train = np.eye(10)[y_train]\n",
    "one_hot_y_test = np.eye(10)[y_test]"
   ]
  },
  {
   "cell_type": "markdown",
   "metadata": {},
   "source": [
    "y_train과 y_test를 One Hot Encoding으로 만드는 것이다.\n",
    "\n",
    "np.eye(n)은 nxn의 단위행렬을 만드는 것이다.\n",
    "\n",
    "원래 np.eye(n)은 대각행렬에 1이 위치하지만, 뒤에 [y_test or train]을 통해 1이 위치하는 위치를 조정할 수 있다.\n",
    "\n",
    "즉, 한 행에 1이 1개이고 나머지가 0인 One-Hot-Encoding이 된 것이다."
   ]
  },
  {
   "cell_type": "code",
   "execution_count": 14,
   "metadata": {},
   "outputs": [],
   "source": [
    "# batch_size을 정의하고, 학습\n",
    "batch_size = 512\n",
    "\n",
    "train_data = tf.data.Dataset.from_tensor_slices((x_train, one_hot_y_train))\n",
    "#5000번 섞고, batch size만큼 뽑아서 학습\n",
    "train_data = train_data.shuffle(5000).batch(batch_size).prefetch(1)\n",
    "test_data = tf.data.Dataset.from_tensor_slices((x_test, one_hot_y_test))"
   ]
  },
  {
   "cell_type": "markdown",
   "metadata": {},
   "source": [
    "tf.data.Dataset.from_tensor_slices()은 Dataset을 생성하는 함수이다.\n",
    "\n",
    "우리는 로컬 파일이나 메모리에 올려져 있는 데이터를 모델로 집어 넣어 평가하고 연산하고 다양한 작업을 진행하게 된다.\n",
    "\n",
    "이때 우리의 데이터가 일정 순서에 따라서 작업이 진행될 수 있도록 도와주는 것이다.\n",
    "\n",
    "따라서 이를 파이프 라인 빌드라고 한다.\n",
    "\n",
    "prefetch(1)은 Dataset이 항상 한 Batch가 미리 준비되어 있도록 준비해준다.\n",
    "\n",
    "즉, 어떤 Batch가 모델에 들어가서 연산을 진행하고 있을때, 연산이 끝나면 바로 다른 하나의 Batch를 넣을 수 있도록 준비를 해놓는 것이다."
   ]
  },
  {
   "cell_type": "code",
   "execution_count": 15,
   "metadata": {},
   "outputs": [],
   "source": [
    "# model 정의\n",
    "model = tf.keras.models.Sequential()\n",
    "# Softmax를 이용하고 출력이 10개 0~9 중 한개의 값으로 예측\n",
    "model.add(tf.keras.layers.Dense(10, activation=tf.keras.activations.softmax))"
   ]
  },
  {
   "cell_type": "code",
   "execution_count": 16,
   "metadata": {},
   "outputs": [],
   "source": [
    "# SGD 방법으로 Optimizer를 사용하고, Cross-Entropy를 사용하여 Loss Function을 계산한다.\n",
    "model.compile(optimizer='sgd', loss=tf.keras.losses.CategoricalCrossentropy(), metrics=['accuracy'])"
   ]
  },
  {
   "cell_type": "code",
   "execution_count": 17,
   "metadata": {
    "scrolled": true
   },
   "outputs": [
    {
     "name": "stdout",
     "output_type": "stream",
     "text": [
      "Epoch 1/100\n",
      "118/118 [==============================] - 1s 5ms/step - loss: 1.8535 - accuracy: 0.4797\n",
      "Epoch 2/100\n",
      "118/118 [==============================] - 1s 5ms/step - loss: 1.2873 - accuracy: 0.7439\n",
      "Epoch 3/100\n",
      "118/118 [==============================] - 1s 5ms/step - loss: 1.0262 - accuracy: 0.7964\n",
      "Epoch 4/100\n",
      "118/118 [==============================] - 1s 5ms/step - loss: 0.8825 - accuracy: 0.8189\n",
      "Epoch 5/100\n",
      "118/118 [==============================] - 1s 5ms/step - loss: 0.7917 - accuracy: 0.8314\n",
      "Epoch 6/100\n",
      "118/118 [==============================] - 1s 5ms/step - loss: 0.7287 - accuracy: 0.8394\n",
      "Epoch 7/100\n",
      "118/118 [==============================] - 1s 5ms/step - loss: 0.6822 - accuracy: 0.8455\n",
      "Epoch 8/100\n",
      "118/118 [==============================] - 1s 5ms/step - loss: 0.6462 - accuracy: 0.8504\n",
      "Epoch 9/100\n",
      "118/118 [==============================] - 1s 7ms/step - loss: 0.6175 - accuracy: 0.8541\n",
      "Epoch 10/100\n",
      "118/118 [==============================] - 1s 5ms/step - loss: 0.5939 - accuracy: 0.8573\n",
      "Epoch 11/100\n",
      "118/118 [==============================] - 1s 5ms/step - loss: 0.5741 - accuracy: 0.8600\n",
      "Epoch 12/100\n",
      "118/118 [==============================] - 1s 5ms/step - loss: 0.5572 - accuracy: 0.8623\n",
      "Epoch 13/100\n",
      "118/118 [==============================] - 1s 6ms/step - loss: 0.5426 - accuracy: 0.8645\n",
      "Epoch 14/100\n",
      "118/118 [==============================] - 1s 5ms/step - loss: 0.5298 - accuracy: 0.8668\n",
      "Epoch 15/100\n",
      "118/118 [==============================] - 1s 6ms/step - loss: 0.5185 - accuracy: 0.8686\n",
      "Epoch 16/100\n",
      "118/118 [==============================] - 1s 5ms/step - loss: 0.5083 - accuracy: 0.8704\n",
      "Epoch 17/100\n",
      "118/118 [==============================] - 1s 5ms/step - loss: 0.4992 - accuracy: 0.8723\n",
      "Epoch 18/100\n",
      "118/118 [==============================] - 1s 5ms/step - loss: 0.4910 - accuracy: 0.8740\n",
      "Epoch 19/100\n",
      "118/118 [==============================] - 1s 5ms/step - loss: 0.4835 - accuracy: 0.8752\n",
      "Epoch 20/100\n",
      "118/118 [==============================] - 1s 5ms/step - loss: 0.4766 - accuracy: 0.8767\n",
      "Epoch 21/100\n",
      "118/118 [==============================] - 1s 5ms/step - loss: 0.4703 - accuracy: 0.8776\n",
      "Epoch 22/100\n",
      "118/118 [==============================] - 1s 5ms/step - loss: 0.4645 - accuracy: 0.8786\n",
      "Epoch 23/100\n",
      "118/118 [==============================] - 1s 5ms/step - loss: 0.4591 - accuracy: 0.8796\n",
      "Epoch 24/100\n",
      "118/118 [==============================] - 1s 5ms/step - loss: 0.4540 - accuracy: 0.8806\n",
      "Epoch 25/100\n",
      "118/118 [==============================] - 1s 5ms/step - loss: 0.4493 - accuracy: 0.8814\n",
      "Epoch 26/100\n",
      "118/118 [==============================] - 1s 5ms/step - loss: 0.4449 - accuracy: 0.8819\n",
      "Epoch 27/100\n",
      "118/118 [==============================] - 1s 6ms/step - loss: 0.4407 - accuracy: 0.8827\n",
      "Epoch 28/100\n",
      "118/118 [==============================] - 1s 8ms/step - loss: 0.4368 - accuracy: 0.8838\n",
      "Epoch 29/100\n",
      "118/118 [==============================] - 1s 5ms/step - loss: 0.4331 - accuracy: 0.8846\n",
      "Epoch 30/100\n",
      "118/118 [==============================] - 1s 5ms/step - loss: 0.4296 - accuracy: 0.8851\n",
      "Epoch 31/100\n",
      "118/118 [==============================] - 1s 5ms/step - loss: 0.4263 - accuracy: 0.8860\n",
      "Epoch 32/100\n",
      "118/118 [==============================] - 1s 5ms/step - loss: 0.4232 - accuracy: 0.8867\n",
      "Epoch 33/100\n",
      "118/118 [==============================] - 1s 5ms/step - loss: 0.4202 - accuracy: 0.8873\n",
      "Epoch 34/100\n",
      "118/118 [==============================] - 1s 5ms/step - loss: 0.4173 - accuracy: 0.8880\n",
      "Epoch 35/100\n",
      "118/118 [==============================] - 1s 5ms/step - loss: 0.4146 - accuracy: 0.8884\n",
      "Epoch 36/100\n",
      "118/118 [==============================] - 1s 6ms/step - loss: 0.4120 - accuracy: 0.8891\n",
      "Epoch 37/100\n",
      "118/118 [==============================] - 1s 5ms/step - loss: 0.4095 - accuracy: 0.8895\n",
      "Epoch 38/100\n",
      "118/118 [==============================] - 1s 5ms/step - loss: 0.4072 - accuracy: 0.8901\n",
      "Epoch 39/100\n",
      "118/118 [==============================] - 1s 6ms/step - loss: 0.4049 - accuracy: 0.8905\n",
      "Epoch 40/100\n",
      "118/118 [==============================] - 1s 5ms/step - loss: 0.4027 - accuracy: 0.8910\n",
      "Epoch 41/100\n",
      "118/118 [==============================] - 1s 5ms/step - loss: 0.4006 - accuracy: 0.8915\n",
      "Epoch 42/100\n",
      "118/118 [==============================] - 1s 7ms/step - loss: 0.3985 - accuracy: 0.8917\n",
      "Epoch 43/100\n",
      "118/118 [==============================] - 1s 6ms/step - loss: 0.3966 - accuracy: 0.8922\n",
      "Epoch 44/100\n",
      "118/118 [==============================] - 1s 7ms/step - loss: 0.3947 - accuracy: 0.8927\n",
      "Epoch 45/100\n",
      "118/118 [==============================] - 1s 5ms/step - loss: 0.3929 - accuracy: 0.8932\n",
      "Epoch 46/100\n",
      "118/118 [==============================] - 1s 5ms/step - loss: 0.3911 - accuracy: 0.8937\n",
      "Epoch 47/100\n",
      "118/118 [==============================] - 1s 5ms/step - loss: 0.3894 - accuracy: 0.8939\n",
      "Epoch 48/100\n",
      "118/118 [==============================] - 1s 6ms/step - loss: 0.3878 - accuracy: 0.8943\n",
      "Epoch 49/100\n",
      "118/118 [==============================] - 1s 6ms/step - loss: 0.3862 - accuracy: 0.8949\n",
      "Epoch 50/100\n",
      "118/118 [==============================] - 1s 6ms/step - loss: 0.3846 - accuracy: 0.8953\n",
      "Epoch 51/100\n",
      "118/118 [==============================] - 1s 5ms/step - loss: 0.3831 - accuracy: 0.8955\n",
      "Epoch 52/100\n",
      "118/118 [==============================] - 1s 5ms/step - loss: 0.3817 - accuracy: 0.8959\n",
      "Epoch 53/100\n",
      "118/118 [==============================] - 1s 8ms/step - loss: 0.3803 - accuracy: 0.8965\n",
      "Epoch 54/100\n",
      "118/118 [==============================] - 1s 5ms/step - loss: 0.3789 - accuracy: 0.8966\n",
      "Epoch 55/100\n",
      "118/118 [==============================] - 1s 5ms/step - loss: 0.3776 - accuracy: 0.8970\n",
      "Epoch 56/100\n",
      "118/118 [==============================] - 1s 5ms/step - loss: 0.3763 - accuracy: 0.8973\n",
      "Epoch 57/100\n",
      "118/118 [==============================] - 1s 5ms/step - loss: 0.3750 - accuracy: 0.8976\n",
      "Epoch 58/100\n",
      "118/118 [==============================] - 1s 5ms/step - loss: 0.3738 - accuracy: 0.8979\n",
      "Epoch 59/100\n",
      "118/118 [==============================] - 1s 5ms/step - loss: 0.3726 - accuracy: 0.8981\n",
      "Epoch 60/100\n",
      "118/118 [==============================] - 1s 5ms/step - loss: 0.3714 - accuracy: 0.8984\n",
      "Epoch 61/100\n",
      "118/118 [==============================] - 1s 9ms/step - loss: 0.3703 - accuracy: 0.8988\n",
      "Epoch 62/100\n",
      "118/118 [==============================] - 1s 5ms/step - loss: 0.3692 - accuracy: 0.8989\n",
      "Epoch 63/100\n",
      "118/118 [==============================] - 1s 5ms/step - loss: 0.3681 - accuracy: 0.8991\n",
      "Epoch 64/100\n",
      "118/118 [==============================] - 1s 5ms/step - loss: 0.3671 - accuracy: 0.8994\n",
      "Epoch 65/100\n",
      "118/118 [==============================] - 1s 5ms/step - loss: 0.3660 - accuracy: 0.8996\n",
      "Epoch 66/100\n",
      "118/118 [==============================] - 1s 5ms/step - loss: 0.3650 - accuracy: 0.8996\n",
      "Epoch 67/100\n",
      "118/118 [==============================] - 1s 5ms/step - loss: 0.3640 - accuracy: 0.8998\n",
      "Epoch 68/100\n",
      "118/118 [==============================] - 1s 5ms/step - loss: 0.3631 - accuracy: 0.9000\n",
      "Epoch 69/100\n",
      "118/118 [==============================] - 1s 5ms/step - loss: 0.3622 - accuracy: 0.9002\n",
      "Epoch 70/100\n",
      "118/118 [==============================] - 1s 5ms/step - loss: 0.3612 - accuracy: 0.9005\n",
      "Epoch 71/100\n",
      "118/118 [==============================] - 1s 5ms/step - loss: 0.3603 - accuracy: 0.9007\n",
      "Epoch 72/100\n",
      "118/118 [==============================] - 1s 5ms/step - loss: 0.3594 - accuracy: 0.9008\n",
      "Epoch 73/100\n",
      "118/118 [==============================] - 1s 5ms/step - loss: 0.3586 - accuracy: 0.9011\n",
      "Epoch 74/100\n",
      "118/118 [==============================] - 1s 6ms/step - loss: 0.3577 - accuracy: 0.9014\n",
      "Epoch 75/100\n",
      "118/118 [==============================] - 1s 5ms/step - loss: 0.3569 - accuracy: 0.9016\n",
      "Epoch 76/100\n",
      "118/118 [==============================] - 1s 5ms/step - loss: 0.3561 - accuracy: 0.9016\n",
      "Epoch 77/100\n",
      "118/118 [==============================] - 1s 5ms/step - loss: 0.3553 - accuracy: 0.9018\n",
      "Epoch 78/100\n",
      "118/118 [==============================] - 1s 5ms/step - loss: 0.3545 - accuracy: 0.9021\n",
      "Epoch 79/100\n",
      "118/118 [==============================] - 1s 5ms/step - loss: 0.3538 - accuracy: 0.9023\n",
      "Epoch 80/100\n",
      "118/118 [==============================] - 1s 7ms/step - loss: 0.3530 - accuracy: 0.9025\n",
      "Epoch 81/100\n"
     ]
    },
    {
     "name": "stdout",
     "output_type": "stream",
     "text": [
      "118/118 [==============================] - 1s 5ms/step - loss: 0.3523 - accuracy: 0.9027\n",
      "Epoch 82/100\n",
      "118/118 [==============================] - 1s 5ms/step - loss: 0.3516 - accuracy: 0.9028\n",
      "Epoch 83/100\n",
      "118/118 [==============================] - 1s 5ms/step - loss: 0.3509 - accuracy: 0.9032\n",
      "Epoch 84/100\n",
      "118/118 [==============================] - 1s 5ms/step - loss: 0.3502 - accuracy: 0.9033\n",
      "Epoch 85/100\n",
      "118/118 [==============================] - 1s 5ms/step - loss: 0.3495 - accuracy: 0.9035\n",
      "Epoch 86/100\n",
      "118/118 [==============================] - 1s 5ms/step - loss: 0.3488 - accuracy: 0.9036\n",
      "Epoch 87/100\n",
      "118/118 [==============================] - 1s 5ms/step - loss: 0.3481 - accuracy: 0.9038\n",
      "Epoch 88/100\n",
      "118/118 [==============================] - 1s 9ms/step - loss: 0.3475 - accuracy: 0.9040\n",
      "Epoch 89/100\n",
      "118/118 [==============================] - 1s 6ms/step - loss: 0.3468 - accuracy: 0.9041\n",
      "Epoch 90/100\n",
      "118/118 [==============================] - 1s 5ms/step - loss: 0.3462 - accuracy: 0.9042\n",
      "Epoch 91/100\n",
      "118/118 [==============================] - 1s 9ms/step - loss: 0.3456 - accuracy: 0.9044\n",
      "Epoch 92/100\n",
      "118/118 [==============================] - 1s 9ms/step - loss: 0.3450 - accuracy: 0.9047\n",
      "Epoch 93/100\n",
      "118/118 [==============================] - 1s 5ms/step - loss: 0.3444 - accuracy: 0.9048\n",
      "Epoch 94/100\n",
      "118/118 [==============================] - 1s 5ms/step - loss: 0.3438 - accuracy: 0.9048\n",
      "Epoch 95/100\n",
      "118/118 [==============================] - 1s 5ms/step - loss: 0.3432 - accuracy: 0.9051\n",
      "Epoch 96/100\n",
      "118/118 [==============================] - 1s 5ms/step - loss: 0.3427 - accuracy: 0.9052\n",
      "Epoch 97/100\n",
      "118/118 [==============================] - 1s 5ms/step - loss: 0.3421 - accuracy: 0.9053\n",
      "Epoch 98/100\n",
      "118/118 [==============================] - 1s 5ms/step - loss: 0.3415 - accuracy: 0.9055\n",
      "Epoch 99/100\n",
      "118/118 [==============================] - 1s 5ms/step - loss: 0.3410 - accuracy: 0.9056\n",
      "Epoch 100/100\n",
      "118/118 [==============================] - 1s 5ms/step - loss: 0.3405 - accuracy: 0.9056\n"
     ]
    },
    {
     "data": {
      "text/plain": [
       "<keras.callbacks.History at 0x21ebfb65490>"
      ]
     },
     "execution_count": 17,
     "metadata": {},
     "output_type": "execute_result"
    }
   ],
   "source": [
    "model.fit(train_data, epochs = 100)"
   ]
  },
  {
   "cell_type": "code",
   "execution_count": 19,
   "metadata": {},
   "outputs": [
    {
     "name": "stdout",
     "output_type": "stream",
     "text": [
      "313/313 [==============================] - 1s 2ms/step - loss: 0.3249 - accuracy: 0.9113\n"
     ]
    },
    {
     "data": {
      "text/plain": [
       "[0.32487383484840393, 0.911300003528595]"
      ]
     },
     "execution_count": 19,
     "metadata": {},
     "output_type": "execute_result"
    }
   ],
   "source": [
    "model.evaluate(x_test, one_hot_y_test)"
   ]
  },
  {
   "cell_type": "code",
   "execution_count": 20,
   "metadata": {
    "scrolled": true
   },
   "outputs": [
    {
     "name": "stdout",
     "output_type": "stream",
     "text": [
      "predicted :  6\n"
     ]
    },
    {
     "data": {
      "image/png": "[encoded data removed]",
      "text/plain": [
       "<Figure size 432x288 with 1 Axes>"
      ]
     },
     "metadata": {
      "needs_background": "light"
     },
     "output_type": "display_data"
    }
   ],
   "source": [
    "i = 4579\n",
    "# 4579번째 그림을 출력\n",
    "plt.imshow(x_test[i].reshape(28, 28))\n",
    "print(\"predicted : \", np.argmax(model.predict(np.array([x_test[i]])), axis=1)[0])"
   ]
  },
  {
   "cell_type": "code",
   "execution_count": 22,
   "metadata": {},
   "outputs": [
    {
     "name": "stdout",
     "output_type": "stream",
     "text": [
      "predicted :  9\n"
     ]
    },
    {
     "data": {
      "image/png": "[encoded data removed]",
      "text/plain": [
       "<Figure size 432x288 with 1 Axes>"
      ]
     },
     "metadata": {
      "needs_background": "light"
     },
     "output_type": "display_data"
    }
   ],
   "source": [
    "i = 12\n",
    "# 4579번째 그림을 출력\n",
    "plt.imshow(x_test[i].reshape(28, 28))\n",
    "print(\"predicted : \", np.argmax(model.predict(np.array([x_test[i]])), axis=1)[0])"
   ]
  },
  {
   "cell_type": "code",
   "execution_count": 21,
   "metadata": {},
   "outputs": [
    {
     "data": {
      "text/plain": [
       "array([[1.06954933e-04, 2.31264465e-04, 1.04430810e-01, 3.83971055e-04,\n",
       "        4.91999043e-03, 6.95372978e-03, 8.57234657e-01, 6.11936912e-06,\n",
       "        2.56160628e-02, 1.16364514e-04]], dtype=float32)"
      ]
     },
     "execution_count": 21,
     "metadata": {},
     "output_type": "execute_result"
    }
   ],
   "source": [
    "model.predict(np.array([x_test[i]]))"
   ]
  },
  {
   "cell_type": "markdown",
   "metadata": {},
   "source": [
    "지정한 영역에서 argmax는 최대값을 찾아주는 함수이다.\n",
    "\n",
    "np.array([x_test[4579]])에서 가장 큰 수를 찾아서 해당 위치의 값을 print하는 것이다."
   ]
  }
 ],
 "metadata": {
  "kernelspec": {
   "display_name": "Python 3",
   "language": "python",
   "name": "python3"
  },
  "language_info": {
   "codemirror_mode": {
    "name": "ipython",
    "version": 3
   },
   "file_extension": ".py",
   "mimetype": "text/x-python",
   "name": "python",
   "nbconvert_exporter": "python",
   "pygments_lexer": "ipython3",
   "version": "3.8.5"
  }
 },
 "nbformat": 4,
 "nbformat_minor": 4
}
