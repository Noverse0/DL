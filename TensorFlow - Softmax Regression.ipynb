{
 "cells": [
  {
   "cell_type": "markdown",
   "metadata": {},
   "source": [
    "# Softmax Regression\n",
    "\n",
    "Softmax에 대한 자세한 설명은 제 Notion 페이지에 있습니다.\n",
    "\n",
    "https://noversezero.notion.site/Softmax-Regression-443d6bf93b234f11a3e6134130953d7b"
   ]
  },
  {
   "cell_type": "code",
   "execution_count": 1,
   "metadata": {},
   "outputs": [],
   "source": [
    "import tensorflow as tf\n",
    "import numpy as np\n",
    "from tensorflow.keras.datasets import mnist\n",
    "import matplotlib.pyplot as plt"
   ]
  },
  {
   "cell_type": "code",
   "execution_count": 2,
   "metadata": {},
   "outputs": [],
   "source": [
    "# mnist 데이터 로딩 \n",
    "(x_train, y_train), (x_test, y_test) = mnist.load_data()"
   ]
  },
  {
   "cell_type": "markdown",
   "metadata": {},
   "source": [
    " mnist 데이터는 6만개의 train 데이터와 1만개의 test 데이터로 이루어져있습니다.\n",
    " \n",
    " 한개의 데이터는 28, 28의 2차원 배열 형태로 저장이 되어 있습니다.\n",
    " \n",
    " 즉, 가로 28, 세로 28의 흑백 이미지들의 집합입니다."
   ]
  },
  {
   "cell_type": "code",
   "execution_count": 3,
   "metadata": {},
   "outputs": [],
   "source": [
    "# Covert uint8 to float32\n",
    "x_train, x_test = np.array(x_train, np.float32), np.array(x_test, np.float32)"
   ]
  },
  {
   "cell_type": "code",
   "execution_count": 4,
   "metadata": {},
   "outputs": [],
   "source": [
    "# Flatten images to 1-0 vector of 784 features (28*28), 1차원 벡터로 변환\n",
    "x_train, x_test = x_train.reshape([-1, 28*28]), x_test.reshape([-1, 28*28])"
   ]
  },
  {
   "cell_type": "markdown",
   "metadata": {},
   "source": [
    "reshape(-1, x)는 모든 원소를 다 사용한다는 것이다.\n",
    "\n",
    "즉, x_train.reshape([-1, 28x28])은 x_train의 모든 원소들을 28x28(왜냐 한 데이터가 28x28 차원이기 때문에)의 1차원 벡터로 바꾼다는 의미이다."
   ]
  },
  {
   "cell_type": "code",
   "execution_count": 5,
   "metadata": {},
   "outputs": [],
   "source": [
    "# Normalize images value from [0, 255] to [0,1] \n",
    "#0부터 255까지 숫자로 되어 있는 것을 255로 나누어서 Nomalization\n",
    "x_train, x_test = x_train / 255, x_test / 255"
   ]
  },
  {
   "cell_type": "markdown",
   "metadata": {},
   "source": [
    "이 데이터를 이해하기 휩게 0과 1사이의 실수값으로 데이터를 변환하는게 필요합니다.\n",
    "\n",
    "255로 나누어 0과 1사이의 값으로 만들어 줍니다."
   ]
  },
  {
   "cell_type": "code",
   "execution_count": 14,
   "metadata": {},
   "outputs": [],
   "source": [
    "# One-Hot-Encoding\n",
    "one_hot_y_train = np.eye(10)[y_train]\n",
    "one_hot_y_test = np.eye(10)[y_test]"
   ]
  },
  {
   "cell_type": "markdown",
   "metadata": {},
   "source": [
    "y_train과 y_test를 One Hot Encoding으로 만드는 것이다.\n",
    "\n",
    "np.eye(n)은 nxn의 단위행렬을 만드는 것이다.\n",
    "\n",
    "원래 np.eye(n)은 대각행렬에 1이 위치하지만, 뒤에 [y_test or train]을 통해 1이 위치하는 위치를 조정할 수 있다.\n",
    "\n",
    "즉, 한 행에 1이 1개이고 나머지가 0인 One-Hot-Encoding이 된 것이다."
   ]
  },
  {
   "cell_type": "code",
   "execution_count": 15,
   "metadata": {},
   "outputs": [],
   "source": [
    "# batch_size을 정의하고, 학습\n",
    "batch_size = 512\n",
    "\n",
    "train_data = tf.data.Dataset.from_tensor_slices((x_train, one_hot_y_train))\n",
    "#5000번 섞고, batch size만큼 뽑아서 학습\n",
    "train_data = train_data.shuffle(5000).batch(batch_size).prefetch(1)\n",
    "test_data = tf.data.Dataset.from_tensor_slices((x_test, one_hot_y_test))"
   ]
  },
  {
   "cell_type": "markdown",
   "metadata": {},
   "source": [
    "tf.data.Dataset.from_tensor_slices()은 Dataset을 생성하는 함수이다.\n",
    "\n",
    "우리는 로컬 파일이나 메모리에 올려져 있는 데이터를 모델로 집어 넣어 평가하고 연산하고 다양한 작업을 진행하게 된다.\n",
    "\n",
    "이때 우리의 데이터가 일정 순서에 따라서 작업이 진행될 수 있도록 도와주는 것이다.\n",
    "\n",
    "따라서 이를 파이프 라인 빌드라고 한다.\n",
    "\n",
    "prefetch(1)은 Dataset이 항상 한 Batch가 미리 준비되어 있도록 준비해준다.\n",
    "\n",
    "즉, 어떤 Batch가 모델에 들어가서 연산을 진행하고 있을때, 연산이 끝나면 바로 다른 하나의 Batch를 넣을 수 있도록 준비를 해놓는 것이다."
   ]
  },
  {
   "cell_type": "code",
   "execution_count": 19,
   "metadata": {},
   "outputs": [],
   "source": [
    "# model 정의\n",
    "model = tf.keras.models.Sequential()\n",
    "# Softmax를 이용하고 출력이 10개 0~9 중 한개의 값으로 예측\n",
    "model.add(tf.keras.layers.Dense(10, activation=tf.keras.activations.softmax))"
   ]
  },
  {
   "cell_type": "code",
   "execution_count": 21,
   "metadata": {},
   "outputs": [],
   "source": [
    "# SGD 방법으로 Optimizer를 사용하고, Cross-Entropy를 사용하여 Loss Function을 계산한다.\n",
    "model.compile(optimizer='sgd', loss=tf.keras.losses.CategoricalCrossentropy(), metrics=['accuracy'])"
   ]
  },
  {
   "cell_type": "code",
   "execution_count": 22,
   "metadata": {
    "scrolled": true
   },
   "outputs": [
    {
     "name": "stdout",
     "output_type": "stream",
     "text": [
      "predicted :  2\n"
     ]
    },
    {
     "data": {
      "image/png": "[encoded data removed]",
      "text/plain": [
       "<Figure size 432x288 with 1 Axes>"
      ]
     },
     "metadata": {
      "needs_background": "light"
     },
     "output_type": "display_data"
    }
   ],
   "source": [
    "i = 4579\n",
    "# 4579번째 그림을 출력\n",
    "plt.imshow(x_test[i].reshape(28, 28))\n",
    "print(\"predicted : \", np.argmax(model.predict(np.array([x_test[i]])), axis=1)[0])"
   ]
  },
  {
   "cell_type": "code",
   "execution_count": 30,
   "metadata": {},
   "outputs": [
    {
     "data": {
      "text/plain": [
       "array([[0.13501413, 0.05460301, 0.13652675, 0.08576441, 0.13066295,\n",
       "        0.09512195, 0.13367128, 0.09746242, 0.06176591, 0.06940713]],\n",
       "      dtype=float32)"
      ]
     },
     "execution_count": 30,
     "metadata": {},
     "output_type": "execute_result"
    }
   ],
   "source": [
    "model.predict(np.array([x_test[i]]))"
   ]
  },
  {
   "cell_type": "markdown",
   "metadata": {},
   "source": [
    "지정한 영역에서 argmax는 최대값을 찾아주는 함수이다.\n",
    "\n",
    "np.array([x_test[4579]])에서 가장 큰 수를 찾아서 해당 위치의 값을 print하는 것이다."
   ]
  }
 ],
 "metadata": {
  "kernelspec": {
   "display_name": "Python 3",
   "language": "python",
   "name": "python3"
  },
  "language_info": {
   "codemirror_mode": {
    "name": "ipython",
    "version": 3
   },
   "file_extension": ".py",
   "mimetype": "text/x-python",
   "name": "python",
   "nbconvert_exporter": "python",
   "pygments_lexer": "ipython3",
   "version": "3.8.5"
  }
 },
 "nbformat": 4,
 "nbformat_minor": 4
}
